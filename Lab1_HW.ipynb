{
  "nbformat": 4,
  "nbformat_minor": 0,
  "metadata": {
    "colab": {
      "provenance": []
    },
    "kernelspec": {
      "name": "python3",
      "display_name": "Python 3"
    },
    "language_info": {
      "name": "python"
    }
  },
  "cells": [
    {
      "cell_type": "markdown",
      "source": [
        "## Загрузка набора данных"
      ],
      "metadata": {
        "id": "EeegJoYkUqDm"
      }
    },
    {
      "cell_type": "code",
      "source": [
        "# установка и активация corus и pandas\n",
        "!pip install corus\n",
        "import corus\n",
        "import pandas as pd"
      ],
      "metadata": {
        "colab": {
          "base_uri": "https://localhost:8080/"
        },
        "id": "TJllJ-BlUwMc",
        "outputId": "aa83a625-b656-47f0-e1a0-80bd1f152734"
      },
      "execution_count": null,
      "outputs": [
        {
          "output_type": "stream",
          "name": "stdout",
          "text": [
            "Looking in indexes: https://pypi.org/simple, https://us-python.pkg.dev/colab-wheels/public/simple/\n",
            "Requirement already satisfied: corus in /usr/local/lib/python3.10/dist-packages (0.9.0)\n"
          ]
        }
      ]
    },
    {
      "cell_type": "code",
      "source": [
        "# загрузка датасета РИА Новости\n",
        "!wget https://github.com/RossiyaSegodnya/ria_news_dataset/raw/master/ria.json.gz"
      ],
      "metadata": {
        "colab": {
          "base_uri": "https://localhost:8080/"
        },
        "id": "fyfvCyveU9Pc",
        "outputId": "15dc0243-b912-43f6-f24b-9f7383723e94"
      },
      "execution_count": null,
      "outputs": [
        {
          "output_type": "stream",
          "name": "stdout",
          "text": [
            "--2023-05-08 23:44:16--  https://github.com/RossiyaSegodnya/ria_news_dataset/raw/master/ria.json.gz\n",
            "Resolving github.com (github.com)... 140.82.114.4\n",
            "Connecting to github.com (github.com)|140.82.114.4|:443... connected.\n",
            "HTTP request sent, awaiting response... 302 Found\n",
            "Location: https://media.githubusercontent.com/media/RossiyaSegodnya/ria_news_dataset/master/ria.json.gz [following]\n",
            "--2023-05-08 23:44:16--  https://media.githubusercontent.com/media/RossiyaSegodnya/ria_news_dataset/master/ria.json.gz\n",
            "Resolving media.githubusercontent.com (media.githubusercontent.com)... 185.199.110.133, 185.199.108.133, 185.199.109.133, ...\n",
            "Connecting to media.githubusercontent.com (media.githubusercontent.com)|185.199.110.133|:443... connected.\n",
            "HTTP request sent, awaiting response... 200 OK\n",
            "Length: 1025015063 (978M) [application/octet-stream]\n",
            "Saving to: ‘ria.json.gz.1’\n",
            "\n",
            "ria.json.gz.1        26%[====>               ] 257.38M   100MB/s    in 2.6s    \n",
            "\n",
            "2023-05-08 23:44:31 (100 MB/s) - Read error at byte 269885056/1025015063 (Connection reset by peer). Retrying.\n",
            "\n",
            "--2023-05-08 23:44:32--  (try: 2)  https://media.githubusercontent.com/media/RossiyaSegodnya/ria_news_dataset/master/ria.json.gz\n",
            "Connecting to media.githubusercontent.com (media.githubusercontent.com)|185.199.110.133|:443... connected.\n",
            "HTTP request sent, awaiting response... 206 Partial Content\n",
            "Length: 1025015063 (978M), 755130007 (720M) remaining [application/octet-stream]\n",
            "Saving to: ‘ria.json.gz.1’\n",
            "\n",
            "ria.json.gz.1       100%[+++++==============>] 977.53M   151MB/s    in 4.6s    \n",
            "\n",
            "2023-05-08 23:44:36 (156 MB/s) - ‘ria.json.gz.1’ saved [1025015063/1025015063]\n",
            "\n"
          ]
        }
      ]
    },
    {
      "cell_type": "code",
      "source": [
        "# проверка - загрузка первой новости\n",
        "\n",
        "from corus import load_ria\n",
        "\n",
        "path = 'ria.json.gz'\n",
        "records = load_ria(path)\n",
        "next(records)"
      ],
      "metadata": {
        "colab": {
          "base_uri": "https://localhost:8080/"
        },
        "id": "GykKCC3HVjc0",
        "outputId": "da9c2b67-55ba-4e31-ba83-ca867b934d51"
      },
      "execution_count": null,
      "outputs": [
        {
          "output_type": "execute_result",
          "data": {
            "text/plain": [
              "RiaRecord(\n",
              "    title='большинство детей, которых пытались увезти в сша из гаити, не сироты',\n",
              "    prefix='москва, 31 янв - риа новости.',\n",
              "    text='большая часть из 33 детей, которых граждане сша пытались вывезти из гаити в организованный в доминиканской республике приют, не являются сиротами, сообщает в воскресенье агентство франс пресс со ссылкой на заявление представителя международной организации \"детские деревни sos\" (sos children\\'s village), оказывающей помощь детям, оставшимся без родителей\\nкак заявила агентству патрисия варгас (patricia vargas), курирующая программы \"детских деревень sos\" в центральной америке, мексике и на карибах, поговорив с детьми она выяснила, что родители многих из них живы. некоторые дети смогли назвать свои домашние адреса и номера телефонов, что дает возможность связаться с их родителями.\\nв это воскресенье гаитянская полиция задержала десятерых граждан сша, подозреваемых в попытке без разрешения вывезти более 30 детей в доминиканскую республику.\\nпредставитель баптистской церкви в городе меридиан американского штата айдахо шон лэнкфорд (sean lankford) заявил, что задержанные прибыли на гаити в составе группы, помогающей детям, которые остались без родителей после разрушительного землетрясения 12 января.\\nлэнкфорд также сообщил, что в числе задержанных его дочь и жена, и они думали, что у них имеются все необходимые документы, позволяющие вывезти детей в организованный в доминиканской республике приют.\\nв настоящее время все эти дети, за исключением маленькой девочки, страдающей от истощения, которая была госпитализирована, находятся в благотворительном центре организации в городе круа-де-букет (croix des bouquets), расположенном в 12 километрах к северо-востоку от столицы гаити порт-о-пренса.\\nпо словам варгас, точный возраст малышки не известен, врачи полагают, что ей около 7 месяцев.\\nцентр \"детских деревень sos\" на гаити юридически не является сиротским приютом и не отдает детей на усыновление.\\nранее гаитянские интернет-ресурсы сообщали, что за  детьми, оставшимися сиротами после землетрясения, охотятся педофилы и торговцы  людьми >>\\nкак отмечает франс пресс, после разгула стихии на гаити были установлены новые правила усыновления, согласно которым премьер-министр страны жан-макс бельрив должен лично разрешить вывоз сирот. целью подобных мер является пресечение попыток незаконного вывоза детей для преступных целей в условиях хаоса, царящего в стране после разгула стихии.\\nпо данным ответственных лиц на гаити, тысячи детей могли быть разлучены с родителями или лишиться их в результате двух землетрясений магнитудой 7 и 5,9, произошедших у побережья этого островного государства 12 января.'\n",
              ")"
            ]
          },
          "metadata": {},
          "execution_count": 21
        }
      ]
    },
    {
      "cell_type": "code",
      "source": [
        "#создаём датасет\n",
        "\n",
        "dataset = [next(records).text for i in range(1000)]\n",
        "dataset[0]"
      ],
      "metadata": {
        "colab": {
          "base_uri": "https://localhost:8080/",
          "height": 128
        },
        "id": "CTm_LeEuZfV9",
        "outputId": "5139eb74-177c-449c-8fa3-d98024e5fc50"
      },
      "execution_count": null,
      "outputs": [
        {
          "output_type": "execute_result",
          "data": {
            "text/plain": [
              "'премьер-министр украины, кандидат в президенты юлия тимошенко в воскресенье в прямом эфире украинского телеканала 1+1 заявила, что в случае ее победы на выборах президента юрий луценко будет работать в ее команде.\\n17 января в украине состоялся первый тур выборов президента, по итогам которого виктор янукович набрал 35,32% голосов, а премьер-министр страны юлия тимошенко оказалась на втором месте с результатом 25,05%. второй тур выборов президента украины состоится 7 февраля.\\nпарламент украины по инициативе партии регионов 28 января отправил в отставку главу мвд юрия луценко, однако премьер-министр юлия тимошенко внесла в кабмин его кандидатуру на утверждение первым замминистра внутренних дел с полномочиями и.о. министра. правительство единогласно поддержало это предложение. партия регионов оспорила это решение кабмина в суде.\\n\"что касается новых назначений, то знаете, как народная мудрость гласит: не нужно говорить \"гоп\", пока еще не произошло событие. потому я считаю, что нужно сначала выиграть выборы, обсудить все вопросы создания новой команды, и я убеждена, что юрий луценко в команде будет работать\", - сказала тимошенко.'"
            ],
            "application/vnd.google.colaboratory.intrinsic+json": {
              "type": "string"
            }
          },
          "metadata": {},
          "execution_count": 22
        }
      ]
    },
    {
      "cell_type": "markdown",
      "source": [
        "## Токенизация"
      ],
      "metadata": {
        "id": "nz4rnsC7ZTtc"
      }
    },
    {
      "cell_type": "code",
      "source": [
        "#импорт NTLK\n",
        "\n",
        "import nltk\n",
        "nltk.download('gutenberg') # data\n",
        "nltk.download('punkt') # punkt tokenizer\n",
        "\n",
        "nltk.corpus.gutenberg.fileids()"
      ],
      "metadata": {
        "colab": {
          "base_uri": "https://localhost:8080/"
        },
        "id": "1Omev3n_doR4",
        "outputId": "b99bac10-d780-4f30-da43-be61399efb39"
      },
      "execution_count": null,
      "outputs": [
        {
          "output_type": "stream",
          "name": "stderr",
          "text": [
            "[nltk_data] Downloading package gutenberg to /root/nltk_data...\n",
            "[nltk_data]   Package gutenberg is already up-to-date!\n",
            "[nltk_data] Downloading package punkt to /root/nltk_data...\n",
            "[nltk_data]   Package punkt is already up-to-date!\n"
          ]
        },
        {
          "output_type": "execute_result",
          "data": {
            "text/plain": [
              "['austen-emma.txt',\n",
              " 'austen-persuasion.txt',\n",
              " 'austen-sense.txt',\n",
              " 'bible-kjv.txt',\n",
              " 'blake-poems.txt',\n",
              " 'bryant-stories.txt',\n",
              " 'burgess-busterbrown.txt',\n",
              " 'carroll-alice.txt',\n",
              " 'chesterton-ball.txt',\n",
              " 'chesterton-brown.txt',\n",
              " 'chesterton-thursday.txt',\n",
              " 'edgeworth-parents.txt',\n",
              " 'melville-moby_dick.txt',\n",
              " 'milton-paradise.txt',\n",
              " 'shakespeare-caesar.txt',\n",
              " 'shakespeare-hamlet.txt',\n",
              " 'shakespeare-macbeth.txt',\n",
              " 'whitman-leaves.txt']"
            ]
          },
          "metadata": {},
          "execution_count": 23
        }
      ]
    },
    {
      "cell_type": "code",
      "source": [
        "#импорт инструментов токенизации NTLK\n",
        "\n",
        "from nltk.tokenize import (\n",
        "    sent_tokenize, \n",
        "    word_tokenize, \n",
        "    TweetTokenizer,\n",
        "    WordPunctTokenizer, \n",
        "    WhitespaceTokenizer,\n",
        "    LegalitySyllableTokenizer,\n",
        "    SyllableTokenizer,\n",
        ")"
      ],
      "metadata": {
        "id": "J3tXm4dPazwy"
      },
      "execution_count": null,
      "outputs": []
    },
    {
      "cell_type": "code",
      "source": [
        "#вызов текста\n",
        "\n",
        "text = dataset[0]\n",
        "text = text.replace('\\n', ' ')\n",
        "text"
      ],
      "metadata": {
        "colab": {
          "base_uri": "https://localhost:8080/",
          "height": 128
        },
        "id": "w50v01HvXSL5",
        "outputId": "d2bcfed7-3f03-4896-8211-45989d3c3b6c"
      },
      "execution_count": null,
      "outputs": [
        {
          "output_type": "execute_result",
          "data": {
            "text/plain": [
              "'премьер-министр украины, кандидат в президенты юлия тимошенко в воскресенье в прямом эфире украинского телеканала 1+1 заявила, что в случае ее победы на выборах президента юрий луценко будет работать в ее команде. 17 января в украине состоялся первый тур выборов президента, по итогам которого виктор янукович набрал 35,32% голосов, а премьер-министр страны юлия тимошенко оказалась на втором месте с результатом 25,05%. второй тур выборов президента украины состоится 7 февраля. парламент украины по инициативе партии регионов 28 января отправил в отставку главу мвд юрия луценко, однако премьер-министр юлия тимошенко внесла в кабмин его кандидатуру на утверждение первым замминистра внутренних дел с полномочиями и.о. министра. правительство единогласно поддержало это предложение. партия регионов оспорила это решение кабмина в суде. \"что касается новых назначений, то знаете, как народная мудрость гласит: не нужно говорить \"гоп\", пока еще не произошло событие. потому я считаю, что нужно сначала выиграть выборы, обсудить все вопросы создания новой команды, и я убеждена, что юрий луценко в команде будет работать\", - сказала тимошенко.'"
            ],
            "application/vnd.google.colaboratory.intrinsic+json": {
              "type": "string"
            }
          },
          "metadata": {},
          "execution_count": 25
        }
      ]
    },
    {
      "cell_type": "code",
      "source": [
        "#разделение по символам\n",
        "\n",
        "', '.join(list(text)[:40])"
      ],
      "metadata": {
        "colab": {
          "base_uri": "https://localhost:8080/",
          "height": 36
        },
        "id": "Jz2eXjJmWPvQ",
        "outputId": "26a72c49-2f01-427e-bf6c-8bd033c838b2"
      },
      "execution_count": null,
      "outputs": [
        {
          "output_type": "execute_result",
          "data": {
            "text/plain": [
              "'п, р, е, м, ь, е, р, -, м, и, н, и, с, т, р,  , у, к, р, а, и, н, ы, ,,  , к, а, н, д, и, д, а, т,  , в,  , п, р, е, з'"
            ],
            "application/vnd.google.colaboratory.intrinsic+json": {
              "type": "string"
            }
          },
          "metadata": {},
          "execution_count": 26
        }
      ]
    },
    {
      "cell_type": "code",
      "source": [
        "#разделение по словам\n",
        "\n",
        "', '.join(text.split()[:40])"
      ],
      "metadata": {
        "colab": {
          "base_uri": "https://localhost:8080/",
          "height": 55
        },
        "id": "xOhAkM2pavPf",
        "outputId": "a2dcc8cc-6d1d-44d2-b818-9a3ccc6fc196"
      },
      "execution_count": null,
      "outputs": [
        {
          "output_type": "execute_result",
          "data": {
            "text/plain": [
              "'премьер-министр, украины,, кандидат, в, президенты, юлия, тимошенко, в, воскресенье, в, прямом, эфире, украинского, телеканала, 1+1, заявила,, что, в, случае, ее, победы, на, выборах, президента, юрий, луценко, будет, работать, в, ее, команде., 17, января, в, украине, состоялся, первый, тур, выборов, президента,'"
            ],
            "application/vnd.google.colaboratory.intrinsic+json": {
              "type": "string"
            }
          },
          "metadata": {},
          "execution_count": 27
        }
      ]
    },
    {
      "cell_type": "code",
      "source": [
        "#разбивание на токены по словам\n",
        "\n",
        "import re\n",
        "\n",
        "re.findall(r'\\w+', text)[:30]"
      ],
      "metadata": {
        "colab": {
          "base_uri": "https://localhost:8080/"
        },
        "id": "5Dy92qGNazt7",
        "outputId": "3bc0eb01-af71-46fe-9b03-0bcecd0275d4"
      },
      "execution_count": null,
      "outputs": [
        {
          "output_type": "execute_result",
          "data": {
            "text/plain": [
              "['премьер',\n",
              " 'министр',\n",
              " 'украины',\n",
              " 'кандидат',\n",
              " 'в',\n",
              " 'президенты',\n",
              " 'юлия',\n",
              " 'тимошенко',\n",
              " 'в',\n",
              " 'воскресенье',\n",
              " 'в',\n",
              " 'прямом',\n",
              " 'эфире',\n",
              " 'украинского',\n",
              " 'телеканала',\n",
              " '1',\n",
              " '1',\n",
              " 'заявила',\n",
              " 'что',\n",
              " 'в',\n",
              " 'случае',\n",
              " 'ее',\n",
              " 'победы',\n",
              " 'на',\n",
              " 'выборах',\n",
              " 'президента',\n",
              " 'юрий',\n",
              " 'луценко',\n",
              " 'будет',\n",
              " 'работать']"
            ]
          },
          "metadata": {},
          "execution_count": 28
        }
      ]
    },
    {
      "cell_type": "code",
      "source": [
        "#токенизация на слова \n",
        "\n",
        "words = word_tokenize(text)\n",
        "words[:40]"
      ],
      "metadata": {
        "colab": {
          "base_uri": "https://localhost:8080/"
        },
        "id": "_9HEvB9vazzq",
        "outputId": "7dea0689-e5d6-49ae-fdca-af297a83bccc"
      },
      "execution_count": null,
      "outputs": [
        {
          "output_type": "execute_result",
          "data": {
            "text/plain": [
              "['премьер-министр',\n",
              " 'украины',\n",
              " ',',\n",
              " 'кандидат',\n",
              " 'в',\n",
              " 'президенты',\n",
              " 'юлия',\n",
              " 'тимошенко',\n",
              " 'в',\n",
              " 'воскресенье',\n",
              " 'в',\n",
              " 'прямом',\n",
              " 'эфире',\n",
              " 'украинского',\n",
              " 'телеканала',\n",
              " '1+1',\n",
              " 'заявила',\n",
              " ',',\n",
              " 'что',\n",
              " 'в',\n",
              " 'случае',\n",
              " 'ее',\n",
              " 'победы',\n",
              " 'на',\n",
              " 'выборах',\n",
              " 'президента',\n",
              " 'юрий',\n",
              " 'луценко',\n",
              " 'будет',\n",
              " 'работать',\n",
              " 'в',\n",
              " 'ее',\n",
              " 'команде',\n",
              " '.',\n",
              " '17',\n",
              " 'января',\n",
              " 'в',\n",
              " 'украине',\n",
              " 'состоялся',\n",
              " 'первый']"
            ]
          },
          "metadata": {},
          "execution_count": 29
        }
      ]
    },
    {
      "cell_type": "code",
      "source": [
        "#токенизация на предложения\n",
        "\n",
        "sentences = sent_tokenize(text, language='russian') \n",
        "sentences[:5]"
      ],
      "metadata": {
        "colab": {
          "base_uri": "https://localhost:8080/"
        },
        "id": "-EhGQsXUesr8",
        "outputId": "927e2e89-9fcd-4a21-ba3c-6a983c108028"
      },
      "execution_count": null,
      "outputs": [
        {
          "output_type": "execute_result",
          "data": {
            "text/plain": [
              "['премьер-министр украины, кандидат в президенты юлия тимошенко в воскресенье в прямом эфире украинского телеканала 1+1 заявила, что в случае ее победы на выборах президента юрий луценко будет работать в ее команде.',\n",
              " '17 января в украине состоялся первый тур выборов президента, по итогам которого виктор янукович набрал 35,32% голосов, а премьер-министр страны юлия тимошенко оказалась на втором месте с результатом 25,05%.',\n",
              " 'второй тур выборов президента украины состоится 7 февраля.',\n",
              " 'парламент украины по инициативе партии регионов 28 января отправил в отставку главу мвд юрия луценко, однако премьер-министр юлия тимошенко внесла в кабмин его кандидатуру на утверждение первым замминистра внутренних дел с полномочиями и.о. министра.',\n",
              " 'правительство единогласно поддержало это предложение.']"
            ]
          },
          "metadata": {},
          "execution_count": 30
        }
      ]
    },
    {
      "cell_type": "code",
      "source": [
        "#предложение\n",
        "\n",
        "sentences[0]"
      ],
      "metadata": {
        "colab": {
          "base_uri": "https://localhost:8080/",
          "height": 55
        },
        "id": "RwWhmHPpi8WV",
        "outputId": "35b7e981-45d3-4476-907b-31366d819831"
      },
      "execution_count": null,
      "outputs": [
        {
          "output_type": "execute_result",
          "data": {
            "text/plain": [
              "'премьер-министр украины, кандидат в президенты юлия тимошенко в воскресенье в прямом эфире украинского телеканала 1+1 заявила, что в случае ее победы на выборах президента юрий луценко будет работать в ее команде.'"
            ],
            "application/vnd.google.colaboratory.intrinsic+json": {
              "type": "string"
            }
          },
          "metadata": {},
          "execution_count": 31
        }
      ]
    },
    {
      "cell_type": "code",
      "source": [
        "# символы вместе со словами\n",
        "WhitespaceTokenizer().tokenize(sentences[0])"
      ],
      "metadata": {
        "colab": {
          "base_uri": "https://localhost:8080/"
        },
        "id": "gdffeb11jA9s",
        "outputId": "78027f45-02f2-477f-e962-3b097804184f"
      },
      "execution_count": null,
      "outputs": [
        {
          "output_type": "execute_result",
          "data": {
            "text/plain": [
              "['премьер-министр',\n",
              " 'украины,',\n",
              " 'кандидат',\n",
              " 'в',\n",
              " 'президенты',\n",
              " 'юлия',\n",
              " 'тимошенко',\n",
              " 'в',\n",
              " 'воскресенье',\n",
              " 'в',\n",
              " 'прямом',\n",
              " 'эфире',\n",
              " 'украинского',\n",
              " 'телеканала',\n",
              " '1+1',\n",
              " 'заявила,',\n",
              " 'что',\n",
              " 'в',\n",
              " 'случае',\n",
              " 'ее',\n",
              " 'победы',\n",
              " 'на',\n",
              " 'выборах',\n",
              " 'президента',\n",
              " 'юрий',\n",
              " 'луценко',\n",
              " 'будет',\n",
              " 'работать',\n",
              " 'в',\n",
              " 'ее',\n",
              " 'команде.']"
            ]
          },
          "metadata": {},
          "execution_count": 32
        }
      ]
    },
    {
      "cell_type": "code",
      "source": [
        "# каждый символ-отдельно\n",
        "WordPunctTokenizer().tokenize(sentences[0]) # '\\w+|[^\\w\\s]+'"
      ],
      "metadata": {
        "colab": {
          "base_uri": "https://localhost:8080/"
        },
        "id": "CocE0WHfjCa9",
        "outputId": "3c34d2cd-36f5-4931-9a72-6b985835e18a"
      },
      "execution_count": null,
      "outputs": [
        {
          "output_type": "execute_result",
          "data": {
            "text/plain": [
              "['премьер',\n",
              " '-',\n",
              " 'министр',\n",
              " 'украины',\n",
              " ',',\n",
              " 'кандидат',\n",
              " 'в',\n",
              " 'президенты',\n",
              " 'юлия',\n",
              " 'тимошенко',\n",
              " 'в',\n",
              " 'воскресенье',\n",
              " 'в',\n",
              " 'прямом',\n",
              " 'эфире',\n",
              " 'украинского',\n",
              " 'телеканала',\n",
              " '1',\n",
              " '+',\n",
              " '1',\n",
              " 'заявила',\n",
              " ',',\n",
              " 'что',\n",
              " 'в',\n",
              " 'случае',\n",
              " 'ее',\n",
              " 'победы',\n",
              " 'на',\n",
              " 'выборах',\n",
              " 'президента',\n",
              " 'юрий',\n",
              " 'луценко',\n",
              " 'будет',\n",
              " 'работать',\n",
              " 'в',\n",
              " 'ее',\n",
              " 'команде',\n",
              " '.']"
            ]
          },
          "metadata": {},
          "execution_count": 33
        }
      ]
    },
    {
      "cell_type": "code",
      "source": [
        "#загрузка corpora\n",
        "\n",
        "with open('dict.opcorpora.txt', 'r', encoding='ISO-8859-1\"') as f:\n",
        "    all_line = f.readlines()\n",
        "corpora = [line.split('\\t')[0].lower() for line in all_line if len(line.split('\\t')) > 1]\n",
        "corpora[:10]"
      ],
      "metadata": {
        "colab": {
          "base_uri": "https://localhost:8080/"
        },
        "id": "tmtoliaRjvCl",
        "outputId": "10c2f7b4-be63-4cb8-c015-ed8579953d85"
      },
      "execution_count": null,
      "outputs": [
        {
          "output_type": "execute_result",
          "data": {
            "text/plain": [
              "['ð\\x81ð\\x96',\n",
              " 'ð\\x95ð\\x96ð\\x90',\n",
              " 'ð\\x95ð\\x96ð£',\n",
              " 'ð\\x95ð\\x96ð\\x90',\n",
              " 'ð\\x95ð\\x96ð\\x9eð\\x9c',\n",
              " 'ð\\x95ð\\x96ð\\x95',\n",
              " 'ð\\x95ð\\x96ð\\x98',\n",
              " 'ð\\x95ð\\x96ð\\x95ð\\x99',\n",
              " 'ð\\x95ð\\x96ð\\x90ð\\x9c',\n",
              " 'ð\\x95ð\\x96ð\\x95ð\\x99']"
            ]
          },
          "metadata": {},
          "execution_count": 35
        }
      ]
    },
    {
      "cell_type": "code",
      "source": [
        "text"
      ],
      "metadata": {
        "colab": {
          "base_uri": "https://localhost:8080/",
          "height": 128
        },
        "id": "tlS1A7Mpq6Ih",
        "outputId": "9ed01acf-9c9c-4b0f-bc43-3cb1c7118cee"
      },
      "execution_count": null,
      "outputs": [
        {
          "output_type": "execute_result",
          "data": {
            "text/plain": [
              "'премьер-министр украины, кандидат в президенты юлия тимошенко в воскресенье в прямом эфире украинского телеканала 1+1 заявила, что в случае ее победы на выборах президента юрий луценко будет работать в ее команде. 17 января в украине состоялся первый тур выборов президента, по итогам которого виктор янукович набрал 35,32% голосов, а премьер-министр страны юлия тимошенко оказалась на втором месте с результатом 25,05%. второй тур выборов президента украины состоится 7 февраля. парламент украины по инициативе партии регионов 28 января отправил в отставку главу мвд юрия луценко, однако премьер-министр юлия тимошенко внесла в кабмин его кандидатуру на утверждение первым замминистра внутренних дел с полномочиями и.о. министра. правительство единогласно поддержало это предложение. партия регионов оспорила это решение кабмина в суде. \"что касается новых назначений, то знаете, как народная мудрость гласит: не нужно говорить \"гоп\", пока еще не произошло событие. потому я считаю, что нужно сначала выиграть выборы, обсудить все вопросы создания новой команды, и я убеждена, что юрий луценко в команде будет работать\", - сказала тимошенко.'"
            ],
            "application/vnd.google.colaboratory.intrinsic+json": {
              "type": "string"
            }
          },
          "metadata": {},
          "execution_count": 36
        }
      ]
    },
    {
      "cell_type": "code",
      "source": [
        "tokenizer = LegalitySyllableTokenizer(corpora, vowels='аеёиоуыэюя')\n",
        "[tokenizer.tokenize(word) for word in word_tokenize(text)][:10]"
      ],
      "metadata": {
        "colab": {
          "base_uri": "https://localhost:8080/"
        },
        "id": "Q8TlbtDFq6LQ",
        "outputId": "55dade7f-da8a-4dd0-e4ae-0fad29257c9e"
      },
      "execution_count": null,
      "outputs": [
        {
          "output_type": "execute_result",
          "data": {
            "text/plain": [
              "[['пр', 'емь', 'ер-м', 'ин', 'истр'],\n",
              " ['укр', 'аин', 'ы'],\n",
              " [','],\n",
              " ['к', 'анд', 'ид', 'ат'],\n",
              " ['в'],\n",
              " ['пр', 'ез', 'ид', 'ент', 'ы'],\n",
              " ['юл', 'ия'],\n",
              " ['т', 'им', 'ош', 'енк', 'о'],\n",
              " ['в'],\n",
              " ['в', 'оскр', 'ес', 'ень', 'е']]"
            ]
          },
          "metadata": {},
          "execution_count": 37
        }
      ]
    },
    {
      "cell_type": "code",
      "source": [
        "#установка spacy\n",
        "\n",
        "%pip install spacy\n",
        "import spacy\n",
        "from spacy import displacy\n",
        "!python3 -m spacy download ru_core_news_sm\n",
        "\n",
        "nlp = spacy.load(\"ru_core_news_sm\")\n",
        "nlp.pipe_names"
      ],
      "metadata": {
        "colab": {
          "base_uri": "https://localhost:8080/"
        },
        "id": "TxlAVoB4rImi",
        "outputId": "efd661e1-135d-4331-a3bf-be9b4d481dbd"
      },
      "execution_count": null,
      "outputs": [
        {
          "output_type": "stream",
          "name": "stdout",
          "text": [
            "Looking in indexes: https://pypi.org/simple, https://us-python.pkg.dev/colab-wheels/public/simple/\n",
            "Requirement already satisfied: spacy in /usr/local/lib/python3.10/dist-packages (3.5.2)\n",
            "Requirement already satisfied: cymem<2.1.0,>=2.0.2 in /usr/local/lib/python3.10/dist-packages (from spacy) (2.0.7)\n",
            "Requirement already satisfied: wasabi<1.2.0,>=0.9.1 in /usr/local/lib/python3.10/dist-packages (from spacy) (1.1.1)\n",
            "Requirement already satisfied: setuptools in /usr/local/lib/python3.10/dist-packages (from spacy) (67.7.2)\n",
            "Requirement already satisfied: tqdm<5.0.0,>=4.38.0 in /usr/local/lib/python3.10/dist-packages (from spacy) (4.65.0)\n",
            "Requirement already satisfied: spacy-loggers<2.0.0,>=1.0.0 in /usr/local/lib/python3.10/dist-packages (from spacy) (1.0.4)\n",
            "Requirement already satisfied: typer<0.8.0,>=0.3.0 in /usr/local/lib/python3.10/dist-packages (from spacy) (0.7.0)\n",
            "Requirement already satisfied: srsly<3.0.0,>=2.4.3 in /usr/local/lib/python3.10/dist-packages (from spacy) (2.4.6)\n",
            "Requirement already satisfied: requests<3.0.0,>=2.13.0 in /usr/local/lib/python3.10/dist-packages (from spacy) (2.27.1)\n",
            "Requirement already satisfied: smart-open<7.0.0,>=5.2.1 in /usr/local/lib/python3.10/dist-packages (from spacy) (6.3.0)\n",
            "Requirement already satisfied: pathy>=0.10.0 in /usr/local/lib/python3.10/dist-packages (from spacy) (0.10.1)\n",
            "Requirement already satisfied: jinja2 in /usr/local/lib/python3.10/dist-packages (from spacy) (3.1.2)\n",
            "Requirement already satisfied: numpy>=1.15.0 in /usr/local/lib/python3.10/dist-packages (from spacy) (1.22.4)\n",
            "Requirement already satisfied: pydantic!=1.8,!=1.8.1,<1.11.0,>=1.7.4 in /usr/local/lib/python3.10/dist-packages (from spacy) (1.10.7)\n",
            "Requirement already satisfied: langcodes<4.0.0,>=3.2.0 in /usr/local/lib/python3.10/dist-packages (from spacy) (3.3.0)\n",
            "Requirement already satisfied: thinc<8.2.0,>=8.1.8 in /usr/local/lib/python3.10/dist-packages (from spacy) (8.1.9)\n",
            "Requirement already satisfied: spacy-legacy<3.1.0,>=3.0.11 in /usr/local/lib/python3.10/dist-packages (from spacy) (3.0.12)\n",
            "Requirement already satisfied: packaging>=20.0 in /usr/local/lib/python3.10/dist-packages (from spacy) (23.1)\n",
            "Requirement already satisfied: murmurhash<1.1.0,>=0.28.0 in /usr/local/lib/python3.10/dist-packages (from spacy) (1.0.9)\n",
            "Requirement already satisfied: preshed<3.1.0,>=3.0.2 in /usr/local/lib/python3.10/dist-packages (from spacy) (3.0.8)\n",
            "Requirement already satisfied: catalogue<2.1.0,>=2.0.6 in /usr/local/lib/python3.10/dist-packages (from spacy) (2.0.8)\n",
            "Requirement already satisfied: typing-extensions>=4.2.0 in /usr/local/lib/python3.10/dist-packages (from pydantic!=1.8,!=1.8.1,<1.11.0,>=1.7.4->spacy) (4.5.0)\n",
            "Requirement already satisfied: certifi>=2017.4.17 in /usr/local/lib/python3.10/dist-packages (from requests<3.0.0,>=2.13.0->spacy) (2022.12.7)\n",
            "Requirement already satisfied: idna<4,>=2.5 in /usr/local/lib/python3.10/dist-packages (from requests<3.0.0,>=2.13.0->spacy) (3.4)\n",
            "Requirement already satisfied: charset-normalizer~=2.0.0 in /usr/local/lib/python3.10/dist-packages (from requests<3.0.0,>=2.13.0->spacy) (2.0.12)\n",
            "Requirement already satisfied: urllib3<1.27,>=1.21.1 in /usr/local/lib/python3.10/dist-packages (from requests<3.0.0,>=2.13.0->spacy) (1.26.15)\n",
            "Requirement already satisfied: blis<0.8.0,>=0.7.8 in /usr/local/lib/python3.10/dist-packages (from thinc<8.2.0,>=8.1.8->spacy) (0.7.9)\n",
            "Requirement already satisfied: confection<1.0.0,>=0.0.1 in /usr/local/lib/python3.10/dist-packages (from thinc<8.2.0,>=8.1.8->spacy) (0.0.4)\n",
            "Requirement already satisfied: click<9.0.0,>=7.1.1 in /usr/local/lib/python3.10/dist-packages (from typer<0.8.0,>=0.3.0->spacy) (8.1.3)\n",
            "Requirement already satisfied: MarkupSafe>=2.0 in /usr/local/lib/python3.10/dist-packages (from jinja2->spacy) (2.1.2)\n",
            "2023-05-08 23:47:00.182994: W tensorflow/compiler/tf2tensorrt/utils/py_utils.cc:38] TF-TRT Warning: Could not find TensorRT\n",
            "Looking in indexes: https://pypi.org/simple, https://us-python.pkg.dev/colab-wheels/public/simple/\n",
            "Collecting ru-core-news-sm==3.5.0\n",
            "  Downloading https://github.com/explosion/spacy-models/releases/download/ru_core_news_sm-3.5.0/ru_core_news_sm-3.5.0-py3-none-any.whl (15.3 MB)\n",
            "\u001b[2K     \u001b[90m━━━━━━━━━━━━━━━━━━━━━━━━━━━━━━━━━━━━━━━━\u001b[0m \u001b[32m15.3/15.3 MB\u001b[0m \u001b[31m71.8 MB/s\u001b[0m eta \u001b[36m0:00:00\u001b[0m\n",
            "\u001b[?25hRequirement already satisfied: spacy<3.6.0,>=3.5.0 in /usr/local/lib/python3.10/dist-packages (from ru-core-news-sm==3.5.0) (3.5.2)\n",
            "Collecting pymorphy3>=1.0.0\n",
            "  Downloading pymorphy3-1.2.0-py3-none-any.whl (55 kB)\n",
            "\u001b[2K     \u001b[90m━━━━━━━━━━━━━━━━━━━━━━━━━━━━━━━━━━━━━━━━\u001b[0m \u001b[32m55.4/55.4 kB\u001b[0m \u001b[31m3.0 MB/s\u001b[0m eta \u001b[36m0:00:00\u001b[0m\n",
            "\u001b[?25hCollecting docopt>=0.6\n",
            "  Downloading docopt-0.6.2.tar.gz (25 kB)\n",
            "  Preparing metadata (setup.py) ... \u001b[?25l\u001b[?25hdone\n",
            "Collecting pymorphy3-dicts-ru\n",
            "  Downloading pymorphy3_dicts_ru-2.4.417150.4580142-py2.py3-none-any.whl (8.4 MB)\n",
            "\u001b[2K     \u001b[90m━━━━━━━━━━━━━━━━━━━━━━━━━━━━━━━━━━━━━━━━\u001b[0m \u001b[32m8.4/8.4 MB\u001b[0m \u001b[31m58.5 MB/s\u001b[0m eta \u001b[36m0:00:00\u001b[0m\n",
            "\u001b[?25hCollecting dawg-python>=0.7.1\n",
            "  Downloading DAWG_Python-0.7.2-py2.py3-none-any.whl (11 kB)\n",
            "Requirement already satisfied: langcodes<4.0.0,>=3.2.0 in /usr/local/lib/python3.10/dist-packages (from spacy<3.6.0,>=3.5.0->ru-core-news-sm==3.5.0) (3.3.0)\n",
            "Requirement already satisfied: smart-open<7.0.0,>=5.2.1 in /usr/local/lib/python3.10/dist-packages (from spacy<3.6.0,>=3.5.0->ru-core-news-sm==3.5.0) (6.3.0)\n",
            "Requirement already satisfied: thinc<8.2.0,>=8.1.8 in /usr/local/lib/python3.10/dist-packages (from spacy<3.6.0,>=3.5.0->ru-core-news-sm==3.5.0) (8.1.9)\n",
            "Requirement already satisfied: numpy>=1.15.0 in /usr/local/lib/python3.10/dist-packages (from spacy<3.6.0,>=3.5.0->ru-core-news-sm==3.5.0) (1.22.4)\n",
            "Requirement already satisfied: preshed<3.1.0,>=3.0.2 in /usr/local/lib/python3.10/dist-packages (from spacy<3.6.0,>=3.5.0->ru-core-news-sm==3.5.0) (3.0.8)\n",
            "Requirement already satisfied: wasabi<1.2.0,>=0.9.1 in /usr/local/lib/python3.10/dist-packages (from spacy<3.6.0,>=3.5.0->ru-core-news-sm==3.5.0) (1.1.1)\n",
            "Requirement already satisfied: setuptools in /usr/local/lib/python3.10/dist-packages (from spacy<3.6.0,>=3.5.0->ru-core-news-sm==3.5.0) (67.7.2)\n",
            "Requirement already satisfied: srsly<3.0.0,>=2.4.3 in /usr/local/lib/python3.10/dist-packages (from spacy<3.6.0,>=3.5.0->ru-core-news-sm==3.5.0) (2.4.6)\n",
            "Requirement already satisfied: catalogue<2.1.0,>=2.0.6 in /usr/local/lib/python3.10/dist-packages (from spacy<3.6.0,>=3.5.0->ru-core-news-sm==3.5.0) (2.0.8)\n",
            "Requirement already satisfied: spacy-loggers<2.0.0,>=1.0.0 in /usr/local/lib/python3.10/dist-packages (from spacy<3.6.0,>=3.5.0->ru-core-news-sm==3.5.0) (1.0.4)\n",
            "Requirement already satisfied: pathy>=0.10.0 in /usr/local/lib/python3.10/dist-packages (from spacy<3.6.0,>=3.5.0->ru-core-news-sm==3.5.0) (0.10.1)\n",
            "Requirement already satisfied: murmurhash<1.1.0,>=0.28.0 in /usr/local/lib/python3.10/dist-packages (from spacy<3.6.0,>=3.5.0->ru-core-news-sm==3.5.0) (1.0.9)\n",
            "Requirement already satisfied: jinja2 in /usr/local/lib/python3.10/dist-packages (from spacy<3.6.0,>=3.5.0->ru-core-news-sm==3.5.0) (3.1.2)\n",
            "Requirement already satisfied: cymem<2.1.0,>=2.0.2 in /usr/local/lib/python3.10/dist-packages (from spacy<3.6.0,>=3.5.0->ru-core-news-sm==3.5.0) (2.0.7)\n",
            "Requirement already satisfied: spacy-legacy<3.1.0,>=3.0.11 in /usr/local/lib/python3.10/dist-packages (from spacy<3.6.0,>=3.5.0->ru-core-news-sm==3.5.0) (3.0.12)\n",
            "Requirement already satisfied: packaging>=20.0 in /usr/local/lib/python3.10/dist-packages (from spacy<3.6.0,>=3.5.0->ru-core-news-sm==3.5.0) (23.1)\n",
            "Requirement already satisfied: requests<3.0.0,>=2.13.0 in /usr/local/lib/python3.10/dist-packages (from spacy<3.6.0,>=3.5.0->ru-core-news-sm==3.5.0) (2.27.1)\n",
            "Requirement already satisfied: typer<0.8.0,>=0.3.0 in /usr/local/lib/python3.10/dist-packages (from spacy<3.6.0,>=3.5.0->ru-core-news-sm==3.5.0) (0.7.0)\n",
            "Requirement already satisfied: pydantic!=1.8,!=1.8.1,<1.11.0,>=1.7.4 in /usr/local/lib/python3.10/dist-packages (from spacy<3.6.0,>=3.5.0->ru-core-news-sm==3.5.0) (1.10.7)\n",
            "Requirement already satisfied: tqdm<5.0.0,>=4.38.0 in /usr/local/lib/python3.10/dist-packages (from spacy<3.6.0,>=3.5.0->ru-core-news-sm==3.5.0) (4.65.0)\n",
            "Requirement already satisfied: typing-extensions>=4.2.0 in /usr/local/lib/python3.10/dist-packages (from pydantic!=1.8,!=1.8.1,<1.11.0,>=1.7.4->spacy<3.6.0,>=3.5.0->ru-core-news-sm==3.5.0) (4.5.0)\n",
            "Requirement already satisfied: charset-normalizer~=2.0.0 in /usr/local/lib/python3.10/dist-packages (from requests<3.0.0,>=2.13.0->spacy<3.6.0,>=3.5.0->ru-core-news-sm==3.5.0) (2.0.12)\n",
            "Requirement already satisfied: certifi>=2017.4.17 in /usr/local/lib/python3.10/dist-packages (from requests<3.0.0,>=2.13.0->spacy<3.6.0,>=3.5.0->ru-core-news-sm==3.5.0) (2022.12.7)\n",
            "Requirement already satisfied: idna<4,>=2.5 in /usr/local/lib/python3.10/dist-packages (from requests<3.0.0,>=2.13.0->spacy<3.6.0,>=3.5.0->ru-core-news-sm==3.5.0) (3.4)\n",
            "Requirement already satisfied: urllib3<1.27,>=1.21.1 in /usr/local/lib/python3.10/dist-packages (from requests<3.0.0,>=2.13.0->spacy<3.6.0,>=3.5.0->ru-core-news-sm==3.5.0) (1.26.15)\n",
            "Requirement already satisfied: confection<1.0.0,>=0.0.1 in /usr/local/lib/python3.10/dist-packages (from thinc<8.2.0,>=8.1.8->spacy<3.6.0,>=3.5.0->ru-core-news-sm==3.5.0) (0.0.4)\n",
            "Requirement already satisfied: blis<0.8.0,>=0.7.8 in /usr/local/lib/python3.10/dist-packages (from thinc<8.2.0,>=8.1.8->spacy<3.6.0,>=3.5.0->ru-core-news-sm==3.5.0) (0.7.9)\n",
            "Requirement already satisfied: click<9.0.0,>=7.1.1 in /usr/local/lib/python3.10/dist-packages (from typer<0.8.0,>=0.3.0->spacy<3.6.0,>=3.5.0->ru-core-news-sm==3.5.0) (8.1.3)\n",
            "Requirement already satisfied: MarkupSafe>=2.0 in /usr/local/lib/python3.10/dist-packages (from jinja2->spacy<3.6.0,>=3.5.0->ru-core-news-sm==3.5.0) (2.1.2)\n",
            "Building wheels for collected packages: docopt\n",
            "  Building wheel for docopt (setup.py) ... \u001b[?25l\u001b[?25hdone\n",
            "  Created wheel for docopt: filename=docopt-0.6.2-py2.py3-none-any.whl size=13721 sha256=aa620896824e1e043e6245d441849e2d0e54199ce95bd1751c89e8267aa253f3\n",
            "  Stored in directory: /root/.cache/pip/wheels/fc/ab/d4/5da2067ac95b36618c629a5f93f809425700506f72c9732fac\n",
            "Successfully built docopt\n",
            "Installing collected packages: pymorphy3-dicts-ru, docopt, dawg-python, pymorphy3, ru-core-news-sm\n",
            "Successfully installed dawg-python-0.7.2 docopt-0.6.2 pymorphy3-1.2.0 pymorphy3-dicts-ru-2.4.417150.4580142 ru-core-news-sm-3.5.0\n",
            "\u001b[38;5;2m✔ Download and installation successful\u001b[0m\n",
            "You can now load the package via spacy.load('ru_core_news_sm')\n"
          ]
        },
        {
          "output_type": "execute_result",
          "data": {
            "text/plain": [
              "['tok2vec', 'morphologizer', 'parser', 'attribute_ruler', 'lemmatizer', 'ner']"
            ]
          },
          "metadata": {},
          "execution_count": 38
        }
      ]
    },
    {
      "cell_type": "code",
      "source": [
        "#предложение\n",
        "\n",
        "sentences[0]"
      ],
      "metadata": {
        "colab": {
          "base_uri": "https://localhost:8080/",
          "height": 55
        },
        "id": "wPDu3e5lsH2h",
        "outputId": "bfc01343-a4a3-4965-88e6-f157a191f97b"
      },
      "execution_count": null,
      "outputs": [
        {
          "output_type": "execute_result",
          "data": {
            "text/plain": [
              "'премьер-министр украины, кандидат в президенты юлия тимошенко в воскресенье в прямом эфире украинского телеканала 1+1 заявила, что в случае ее победы на выборах президента юрий луценко будет работать в ее команде.'"
            ],
            "application/vnd.google.colaboratory.intrinsic+json": {
              "type": "string"
            }
          },
          "metadata": {},
          "execution_count": 39
        }
      ]
    },
    {
      "cell_type": "code",
      "source": [
        "#результат\n",
        "doc = nlp(sentences[0])\n",
        "for token in doc:\n",
        "    print(token.text)"
      ],
      "metadata": {
        "colab": {
          "base_uri": "https://localhost:8080/"
        },
        "id": "OuSa9a9FsKN3",
        "outputId": "69443602-7de4-421f-e563-825a30766a2b"
      },
      "execution_count": null,
      "outputs": [
        {
          "output_type": "stream",
          "name": "stdout",
          "text": [
            "премьер\n",
            "-\n",
            "министр\n",
            "украины\n",
            ",\n",
            "кандидат\n",
            "в\n",
            "президенты\n",
            "юлия\n",
            "тимошенко\n",
            "в\n",
            "воскресенье\n",
            "в\n",
            "прямом\n",
            "эфире\n",
            "украинского\n",
            "телеканала\n",
            "1\n",
            "+\n",
            "1\n",
            "заявила\n",
            ",\n",
            "что\n",
            "в\n",
            "случае\n",
            "ее\n",
            "победы\n",
            "на\n",
            "выборах\n",
            "президента\n",
            "юрий\n",
            "луценко\n",
            "будет\n",
            "работать\n",
            "в\n",
            "ее\n",
            "команде\n",
            ".\n"
          ]
        }
      ]
    },
    {
      "cell_type": "markdown",
      "source": [
        "## Стемминг"
      ],
      "metadata": {
        "id": "R_TXTLSgUU5y"
      }
    },
    {
      "cell_type": "code",
      "source": [
        "from corus import load_ria\n",
        "\n",
        "path = 'ria.json.gz'\n",
        "records = load_ria(path)\n",
        "next(records)"
      ],
      "metadata": {
        "colab": {
          "base_uri": "https://localhost:8080/"
        },
        "id": "4JoQbU428SuD",
        "outputId": "13d85aa0-9ac9-46cc-ef34-d48064573f80"
      },
      "execution_count": null,
      "outputs": [
        {
          "output_type": "execute_result",
          "data": {
            "text/plain": [
              "RiaRecord(\n",
              "    title='большинство детей, которых пытались увезти в сша из гаити, не сироты',\n",
              "    prefix='москва, 31 янв - риа новости.',\n",
              "    text='большая часть из 33 детей, которых граждане сша пытались вывезти из гаити в организованный в доминиканской республике приют, не являются сиротами, сообщает в воскресенье агентство франс пресс со ссылкой на заявление представителя международной организации \"детские деревни sos\" (sos children\\'s village), оказывающей помощь детям, оставшимся без родителей\\nкак заявила агентству патрисия варгас (patricia vargas), курирующая программы \"детских деревень sos\" в центральной америке, мексике и на карибах, поговорив с детьми она выяснила, что родители многих из них живы. некоторые дети смогли назвать свои домашние адреса и номера телефонов, что дает возможность связаться с их родителями.\\nв это воскресенье гаитянская полиция задержала десятерых граждан сша, подозреваемых в попытке без разрешения вывезти более 30 детей в доминиканскую республику.\\nпредставитель баптистской церкви в городе меридиан американского штата айдахо шон лэнкфорд (sean lankford) заявил, что задержанные прибыли на гаити в составе группы, помогающей детям, которые остались без родителей после разрушительного землетрясения 12 января.\\nлэнкфорд также сообщил, что в числе задержанных его дочь и жена, и они думали, что у них имеются все необходимые документы, позволяющие вывезти детей в организованный в доминиканской республике приют.\\nв настоящее время все эти дети, за исключением маленькой девочки, страдающей от истощения, которая была госпитализирована, находятся в благотворительном центре организации в городе круа-де-букет (croix des bouquets), расположенном в 12 километрах к северо-востоку от столицы гаити порт-о-пренса.\\nпо словам варгас, точный возраст малышки не известен, врачи полагают, что ей около 7 месяцев.\\nцентр \"детских деревень sos\" на гаити юридически не является сиротским приютом и не отдает детей на усыновление.\\nранее гаитянские интернет-ресурсы сообщали, что за  детьми, оставшимися сиротами после землетрясения, охотятся педофилы и торговцы  людьми >>\\nкак отмечает франс пресс, после разгула стихии на гаити были установлены новые правила усыновления, согласно которым премьер-министр страны жан-макс бельрив должен лично разрешить вывоз сирот. целью подобных мер является пресечение попыток незаконного вывоза детей для преступных целей в условиях хаоса, царящего в стране после разгула стихии.\\nпо данным ответственных лиц на гаити, тысячи детей могли быть разлучены с родителями или лишиться их в результате двух землетрясений магнитудой 7 и 5,9, произошедших у побережья этого островного государства 12 января.'\n",
              ")"
            ]
          },
          "metadata": {},
          "execution_count": 22
        }
      ]
    },
    {
      "cell_type": "code",
      "source": [
        "import json\n",
        "from corus import load_lenta\n",
        "from pymystem3 import Mystem"
      ],
      "metadata": {
        "id": "_BbYi0tt82_z"
      },
      "execution_count": null,
      "outputs": []
    },
    {
      "cell_type": "code",
      "source": [],
      "metadata": {
        "id": "0ncSLeuD-zdV"
      },
      "execution_count": null,
      "outputs": []
    },
    {
      "cell_type": "code",
      "source": [
        "m = Mystem()\n",
        "\n",
        "# Стемминг текстовых данных из датасета\n",
        "for i, record in enumerate(records):\n",
        "    text = record.text\n",
        "    stems = m.lemmatize(text)[:100]\n",
        "    print(f\"Стемминг текста {i}: {''.join(stems)}\")"
      ],
      "metadata": {
        "colab": {
          "base_uri": "https://localhost:8080/",
          "height": 1000
        },
        "id": "T6NW8NvI86F4",
        "outputId": "3e205c15-3288-4974-dcfe-1ff1f08a6c1e"
      },
      "execution_count": null,
      "outputs": [
        {
          "output_type": "stream",
          "name": "stdout",
          "text": [
            "Стемминг текста 0: президент сша барак обама считать, что аудиообращение усама бен ладен, в который тот взять ответственность за неудавшийся \"рождественский\" теракт в детройт, говорить о то, что международный террористический организация аль-каида ослабевать, сообщать во вторник телерадиокорпорация abc.\n",
            "\"сам группировка \"аль-каида\" сильно ослабевать по сравнение с то, какой она быть в 2000 \n",
            "Стемминг текста 1: порядок шестьсот работник образование принимать участие в региональный форум заслуженный учитель россия, который пройти 27 январь в киров, сообщать риа новость во вторник пресс-секретарь региональный департамент образование ольга никифорова.\n",
            "\"форум открывать год учитель в кировский область. участник обсуждать такой вопрос, как роль учитель в современный общество, повышение качество образование\n",
            "Стемминг текста 2: международный рейтинговый агентство fitch улучшать прогноз рейтинг банк москва до \"стабильный\" с \"негативный\" после аналогичный действие по отношение к рейтинг москва, говориться в сообщение агентство.\n",
            "в тот же время, агентство подтвердить долгосрочный рейтинг дефолт эмитент банк москва в иностранный валюта на уровень \"bbb-\", краткосрочный рейтинг дефолт эмитент в иностранный валюта\n",
            "Стемминг текста 3: чемпион мир, олимпийский чемпион, призер международный соревнование и депутат госдума рф принимать участие в спортивный праздник \"олимпиец среди мы!\" для ребенок-инвалид, который пройти в москва в четверг, сообщать риа новость представитель организатор.\n",
            "\"в праздник принимать участие 40 ребенок с ограниченный возможность, который вместе с известный спортсмен принимать участие\n",
            "Стемминг текста 4: самарский футбольный клуб \"крыло совет\" проводить два контрольный матч на подготовительный сбор в турция в среда, 27 январь, сообщать официальный сайт команда.\n",
            "сначала в 14:00 мск на поле отель sueno, где базироваться самарский команда, основной состав сыграть с клуб, располагать на северный кипр из город фамагуста. второй матч \n",
            "Стемминг текста 5: ильгар велизаде, политолог (баку), для риа новость.\n",
            "в понедельник в сочи проходить очередной встреча президент азербайджан и армения при посредничество президент россия, посвящать урегулирование карабахский конфликт. с точка зрение анализ ситуация, она можно быть бы и &laquo;не замечать&raquo;, &laquo;пропускать&raquo;, можно быть бы даже воспользоваться случай \n",
            "Стемминг текста 6: спикер госдума борис грызлов предлагать снимать и показывать по телеканал \"россия\" положительный кино про школа в противовес сериал, который идти на первый канал и вызывать неоднозначный реакция в общество.\n",
            "\"школа\", который позиционироваться как \"радикальный сериал про подросток\", первый канал показывать с 11 январь. с критика на сериал, рассказывать о\n",
            "Стемминг текста 7: талиб взять на себя ответственность за теракт на восток афганский столица у ворота база международный сила содействие безопасность в афганистан (isaf) camp phoenix, происходить вечер во вторник.\n",
            "как сообщать представитель сми \"пресс-секретарь\" талиб забиулла моджахед, цель террорист-смертник, взрывать свой автомобиль у въезд на база, на дорога кабул-джелалабад быть\n",
            "Стемминг текста 8: сергей тигипко, занимать третий место в первый тур выборы президент украина 17 январь, заявлять, что готовый возглавлять правительство, если он поступать такой предложение от новый глава государство, который избирать на повторный голосование 7 февраль.\n",
            "\"если новый президент - юлия тимошенко или виктор янукович - смочь собирать в парламент парламентский большинство и \n",
            "Стемминг текста 9: власть ивановский область разрабатывать бизнес-план с объем инвестиция в 7 миллиард рубль по модернизация текстильный производство, работать на территория область, сообщать риа новость во вторник начальник областной департамент экономический развитие и торговля евгений нестеров.\n",
            "&laquo;на заседание областной правительство под председательство губернатор михаил я обсуждаться вопрос развитие текстильный-промышленный \n",
            "Стемминг текста 10: чудинов сергей сергеевич.\n",
            "российский спортсмен (скелетон), мастер спорт международный класс.\n",
            "сергей сергеевич чудинов рождаться 8 июнь 1983 год в г. чусовой, пермский область. \n",
            "в скелетон приходить в 2003 год.\n",
            "в сборная россия с 2004 год.\n",
            "чемпион россия (2005, 2006, 2008). серебряный призер чемпионат россия (2007).\n",
            "\n",
            "Стемминг текста 11: трунова светлана валерьевна.\n",
            "российский спортсменка (скелетон), мастер спорт международный класс.\n",
            "рождаться 7 июнь 1983 год в москва.\n",
            "в скелетон приходить в 2003 год.\n",
            "в сборная россия с 2004 год.\n",
            "чемпионка россия (2006, 2007, 2008, 2009).\n",
            "серебряный призер чемпионат европа (2008).\n",
            "участница чемпионат мир (10-е место\n",
            "Стемминг текста 12: памятник ленин, стоять на площадь у финляндский вокзал и серьезный повреждать взрыв 1 апрель 2009 год, вернуться на свой прежний место после реставрация к 140-летний юбилей ленин, 20 апрель, сообщать во вторник на пресс-конференция, посвящать реставрация памятник, директор петербургский музей городской скульптура владимир тимофеев.\n",
            "рано утро 1 апрель 2009\n",
            "Стемминг текста 13: обращение от житель поселок \"речник\" в посольство фрг пока не поступать, сообщать во вторник риа новость пресс-атташе посольство найтхарт хеффер-виссинг.\n",
            "около 100 семья из поселок \"речник\" планировать в среда, 27 январь приходить к здание посольство сша и фрг, чтобы обращать внимание мировой общественность на событие в поселок, где по\n",
            "Стемминг текста 14: премьер-министр испания хосе луис родригес сапатеро вместе с министр культура испания анхелес гонсалес-синда открывать 25 январь в мадрид выставка \"спасать шедевр\", посвящать история спасение шедевр испанский искусство в год гражданский война в испания (1936-1939 гг.).\n",
            "\n",
            "Стемминг текста 15: специалист восстанавливать подача газ в два село ногайский район дагестан, прерывать в понедельник вечер из-за авария, сообщать риа новость во вторник представитель республиканский мчс.\n",
            "в понедельник вечер в ногайский район дагестан обходчик обнаруживать разрыв газопровод диаметр 150 миллиметр без последующий горение. в результат без газ оставаться два село - ленинаул \n",
            "Стемминг текста 16: третьяков александр владимирович.\n",
            "российский спортсмен (скелетон), мастер спорт международный класс.\n",
            "рождаться 19 апрель 1985 год в красноярск.\n",
            "в сборная команда россия с 2002 год.\n",
            "победитель кубок россия по бобслей (2004, 2006) в четверка.\n",
            "чемпион россия по скелетон-старт (2004). серебряный призер чемпионат россия по скелетон-старт (2002\n",
            "Стемминг текста 17: 26 январь праздновать день рождение известный телеведущий, журналист леонид парфенов. парфенов - лауреат премия союз журналист рф, награждать специальный приз академия российский телевидение \"тэфи\". в 2000 год признавать хороший журналист.\n",
            "за его плечо немало проект, один из самый масштабный оставаться выходить в 1997 год программа \"намедни: 1961-1991. наш\n",
            "Стемминг текста 18: инвестпрограмма ржд на 2010 год мочь быть сокращать на 25 миллиард рубль с 270,5 миллиард рубль, сообщать во вторник президент компания владимир якунин.\n",
            "\"мы с большой труд удаваться верстать инвестиционный программа этот год с то, чтобы оставлять она на прежний уровень. но вот при тот изменение с точка\n",
            "Стемминг текста 19: (данные на 18.00 26 январь)\n",
            "свердловский область\n",
            "* в екатеринбург пройти пресс-конференция начальник отдел по борьба с фальшивомонетничество убэп гувд по свердловский область алексей лопатин на тема: \"борьба с фальшивомонетничество в свердловский область\" (11.00, пресс-центр \"интерфакс-урал\", пр-т ленин, 20а, оф. 502).\n",
            "* в екатеринбург состояться пресс-конференция: \"прокуратура свердловский область\n",
            "Стемминг текста 20: третий за вторник взрыв прогреметь в афганский столица, передавать корреспондент риа новость.\n",
            "по данные источник в полиция кабул, последний взрыв происходить на дорога кабул-джелалабад в городской черта, в район пуля-чарх. по данные собеседник агентство, вероятный все это быть теракт.\n",
            "\"полиция уже выезжать к место инцидент\", - сказать \n",
            "Стемминг текста 21: (по данные на 16.00 26 январь)\n",
            "москва\n",
            "* в дом пашкова состояться пресс-конференция губернатор псковский область андрей турчак и председатель союз кинематографист россия никита михалков на тема \" всероссийский масленица в псков\" (14.00, ул.моховой, 26, тело.: +7 (8112) 660 660, моб. 8 (911) 3791536).\n",
            "* в центр эстетический воспитание \n",
            "Стемминг текста 22: мальчик из белосток самуэль пизар попадать в освенцим, когда он быть 13 год. он проходить через три лагерь смерть, а двадцать год спустя становиться советник президент сша, затем - международный адвокат, представитель крупный капиталист, который вести бизнес в советский союз. накануне 65-й годовщина освобождение освенцим один из самый молодой \n",
            "Стемминг текста 23: около 100 семья из поселок \"речник\" планировать в среда, 27 январь, приходить к здание посольство сша, чтобы обращать внимание мировой общественность на событие в поселок, сообщать риа новость один из жительница поселок.\n",
            "суд ранее постанавливать, что возводить капитальный строение в поселок \"речник\" на запад столица запрещать, так как поселок находиться\n",
            "Стемминг текста 24: * состояться пресс-конференция начальник уолрр и кчдод гувд по москва полковник милиция николай боева на тема: \"организация деятельность уолрр и кчдод гувд по москва после принятие поправка в закон \"о частный детективный и охранный деятельность в российский федерация\". порядок и правило оборот гражданский оружие самооборона\" (11.00, пресс-центр гувд по москва\n",
            "Стемминг текста 25: два гранатомет обнаруживать на чердак жилой дом в центр магас, сапер пытаться они обезвреживать, сообщать риа новость во вторник по телефон источник в силовой структура южный федеральный округ.\n",
            "\"несколько час назад быть обнаруживать два гранатомет на чердак многоквартирный жилой дом в магас. по предварительный данные, это ручной противотанковый гранатомет\n",
            "Стемминг текста 26: для регистрация в доменный зона .рф, заявка россия на создание который icann удовлетворять на прошлый неделя, зарезервировать 6,808 тысяча имя, сообщать директор координационный центр национальный домен сеть интернет андрей колесников на пресс-конференция в риа новость во вторник.\n",
            "координационный центр 25 ноябрь 2009 год начинать приоритетный регистрация домен в \n",
            "Стемминг текста 27: токовый виктория ивановна.\n",
            "российский спортсменка (бобслей), мастер спорт международный класс.\n",
            "рождаться 1 январь 1976 год в сочи.\n",
            "заниматься легкий атлетика под руководство тренер борис мордышева.\n",
            "в 2000 год заниматься бобслей.\n",
            "в сборная россия с 2000 год. первый тренер - валерий лейченко.\n",
            "выступать в двойка за ск вооруженный сила\n",
            "Стемминг текста 28: коридор \"новый\" здание госдума в георгиевский переулок, где во вторник неожиданно погасать свет на весь этаж, снова освещать, сбой в система электроснабжение устранять, передавать корреспондент риа новость.\n",
            "здание нижний палата парламент оставаться в полутьма примерно в течение 40 минута.\n",
            "пока думский электрик устранять неисправность, в госдума работать резервный освещение, \n",
            "Стемминг текста 29: президент россия дмитрий медведев в ход встреча во вторник с главый палестинский национальный администрация махмуд аббас намерен \"сверять часы\" по развитие двусторонний отношение и проблематика ближневосточный урегулирование.\n",
            "\"у мы быть возможность обсуждать весь комплекс отношение между россия и палестина, наш связь иметь давний дружеский характер\", - сказать медведев на встреча \n",
            "Стемминг текста 30: известный буддийский лама оля нидать, первый западный ученик один из четыре основный школа тибетский буддизм - школа карма кагью - на первый лекция в рамка фестиваль буддийский культура в москва в понедельник рассказывать о \"внутренний диснейленд\", политкорректность, глупость и абсолютный зло.\n",
            "\n",
            "оле нидать не в первый раз приезжать в столица с \n",
            "Стемминг текста 31: федеральный антимонопольный служба россия мочь оштрафовать \"юнилевер русь\" (контролироваться один из крупный мировой производитель продукт и бытовой химия unilever) за недостоверный реклама в метро чистить средство domestos, говориться в сообщение ведомство.\n",
            "\"фас россия предписывать компания прекращать нарушение федеральный закон \"о реклама\". быть возбужденно административный дело\", - сказать в пресс-релиз.\n",
            "Стемминг текста 32: следователь объявлять в международный розыск подозреваемый в покушение на председатель самарский областной суд любовь дроздов, сообщать во вторник риа новость пресс-секретарь следственный управление скп рф по самарский область елена шкаева.\n",
            "покушение на дроздов быть совершать 25 ноябрь 2008 год в ленинский район самара. когда судья садиться в служебный машина, \n",
            "Стемминг текста 33: формирование таможенный союз россия белоруссия и казахстан идти полный ход, периодически натыкаться на препятствие в вид отсутствие лицензия у импортер и условие поставка и транзит российский нефть. о то, быть ли упрощать процедура лицензирование, снижаться ли импортный пошлина и когда состояться заседание правительственный подкомиссия по обеспечение устойчивость развитие российский экономика\n",
            "Стемминг текста 34: земной цивилизация постепенно становиться \"невидимый\" для обитатель другой планета из-за переход на цифровой техника, радиоизлучение который значительно мало, чем у аналоговый радиоустройство, считать один из основатель движение по поиск внеземной разум, доктор фрэнк дрейк (frank drake).\n",
            "рано, отмечать ученый, радиоизлучение от земля можно быть зафиксировать на расстояние до 50 \n",
            "Стемминг текста 35: количество медик, который быть сопровождать российский сборная на олимпийский игра в ванкувер, быть много, чем четыре год назад в турин, заявлять риа новость руководитель российский делегация владимир васин.\n",
            "в канада для участие в игра отправляться 175 спортсмен, сопровождать они быть 175 официальный лицо.\n",
            "\"медик быть много, чем когда бы\n",
            "Стемминг текста 36: подозреваемый в убийство шестилетний мальчик в забайкалье, по \"горячий след\" задержанный следственный орган, признавать свой вина, сообщать во вторник риа новость сотрудник пресс-служба забайкальский следственный управление скп рф зоя некрасов.\n",
            "\"с задержанный работать следователь. пока никакой информация нет, но известно, что он признаваться в убийство\", - сказать она.\n",
            "как \n",
            "Стемминг текста 37: повторный подземный толчок продолжаться на гаити, где 12 январь происходить разрушительный землетрясение, сообщать геологический служба сша.\n",
            "подземный толчок магнитуда 4,6 быть зафиксировать во вторник в 11.17 по utc (универсальный координировать время, 14.27 мск) на глубина десять километр. они эпицентр располагаться в 70 километр к северо-восток от город ле-\n",
            "Стемминг текста 38: краснодарский край для укрепление связь с абхазия планировать открывать собственный представительство в гагрский район республика.\n",
            "\"представительство быть содействовать развитие и укрепление связь между краснодарский край и республика абхазия\", - сказать начальник управление кадровый политика администрация край владимир резник на сессия кубанский парламент во вторник.\n",
            "для создание представительство депутат вносить соответствующий\n",
            "Стемминг текста 39: не менее 46 человек погибать и много сто ранить в результат три теракт, прогреметь в центр багдад. очевидец удаваться снимать, что происходить после взрыв на улица город.\n",
            "\n",
            "Стемминг текста 40: петербургский футбольный клуб \"зенит\" во вторник расторгать контракт с ким дон чжин по результат медицинский обследование, который не позволять корейский легионер продолжать выполнять условие договор, сообщать пресс-служба клуб.\n",
            "\"сегодня фк \"зенит\" расторгать контракт с корейский защитник. причина прекращение контракт становиться результат медицинский обследование, который не позволять ким продолжать выполнять\n",
            "Стемминг текста 41: парламентский ассамблея совет европа (пасе) призывать россия, азербайджан, лихтенштейн, монако, чехия и эстония подписывать и ратифицировать конвенция совет европа о противодействие торговля человек, говориться в представлять во вторник доклад.\n",
            "конвенция совет европа о противодействие торговля человек быть открывать к подписание в май 2005 год в варшава. по состояние на \n",
            "Стемминг текста 42: грузия приветствовать нормализация отношение между армения и турция, сказать премьер-министр грузия николоз гилаури.\n",
            "отношение между армения и турция, достаточно напряженный до недавний время, становиться налаживаться - глава мид армения и турция эдвард налбандянин и ахмед давутоглу 10 октябрь 2009 год в университет цюрих подписывать \"протокол об установление дипотношения\" и \"протокол о\n",
            "Стемминг текста 43: скулкин анастасия валерьевна.\n",
            "российский спортсменка (бобслей, одноместный сани), мастер спорт.\n",
            "рождаться 10 август 1982 год в красноярск.\n",
            "с четыре год заниматься спортивный гимнастика. с 1995 год - в санный спорт. первый тренер - константин иванов.\n",
            "с 2001 год в сборная россия по санный спорт (одноместный сани).\n",
            "в 2006 \n",
            "Стемминг текста 44: \"транснефть\" планировать 28 январь озвучивать итог тендер по выбор подрядный организация на строительство второй очередь нефтепровод \"восточный сибирь - тихий океан\" (всто-2), сообщать риа новость представитель компания игорь демин.\n",
            "\"конверт быть вскрывать 22 январь, 28 январь быть подводить итог и объявлять победитель тендер\", - сказать он.\n",
            "ранее президент \"транснефть\" \n",
            "Стемминг текста 45: управление мчс по курганский и челябинский область предупреждать о возможный чс в связь с сильный мороз, который прийти в регион в ночь на среда.\n",
            "сорокоградусная мороз ожидаться на урал >>\n",
            "по прогноз курганский центр по гидрометеорология и мониторинг окружающий среда, в ночь на 27 январь температура воздух в регион опускаться до\n",
            "Стемминг текста 46: экс-первый ракетка мир испанский теннисист рафаэль надаль не смочь доигрывать четвертьфинальный поединок открытый чемпионат австралия против британец  энди мюррей, который становиться второй полуфиналист мужской соревнование в мельбурн.\n",
            "посеять на турнир под пятый номер мюррей вести в поединок против второй ракетка со счет 6:3, 7:6 (7:2), 3\n",
            "Стемминг текста 47: черноморский побережье россия в ночь на вторник подвергаться атака холодный антициклон, температура в этот курортный субтропический зона упасть до 17-19 градус мороз, повезти лишь сочи, где температура быть ненамного, но высокий ноль, сообщаться на сайт \"метеоновость\".\n",
            "\"в краснодарский край под утро 26 январь место мороз окрепнуть до минус\n",
            "Стемминг текста 48: германия планировать начинать постепенный вывод войско из афганистан в следующий год, заявлять министр иностранный дело фрг гидо вестервелла.\n",
            "\"мы хотеть в этот год шаг за шаг начинать передача ответственность за безопасность, а в 2011 год мы хотеть приступать к вывод наш собственный контингент\", - сказать он журналист во вторник.\n",
            "министр\n",
            "Стемминг текста 49: сорокоградусная мороз прийти на урал в ночь на среда, в омский область и на юг тюменский мочь похолодать до минус 43 градус, сообщаться на сайт \"метеоновость\".\n",
            "\"в курганский и челябинский область близкий ночь мороз окрепнуть до минус 35-38 градус, такой же ночной мороз ожидаться и в свердловский область\n",
            "Стемминг текста 50: два маршрутный автобус сталкиваться день во вторник у площадь победа в санкт-петербург: в авария, по предварительный данные, пострадать много десять человек, сообщать риа новость сотрудница пресс-служба региональный управление гибдд.\n",
            "\"около 13.20 у площадь победа сталкиваться два маршрутный автобус, двигаться в попутный направление. погибший и тяжело пострадавший нет\", - сказать она\n",
            "Стемминг текста 51: ситуация с \"двоевластие\" в высокий административный суд украина не оказывать существенный влияние на результат президентский выборы, считать министр юстиция украина николай онищук.\n",
            "в высокий административный суд украина (васа) в настоящий время сразу два исполнять обязанность председатель суд, каждый из который считать себя законный. в связь с это политика и \n",
            "Стемминг текста 52: холод, устанавливаться в калининградский область в последний десять день, не настолько сильный, чтобы балтийский море замерзать, считать представитель кафедра геоэкология факультет география российский госуниверситет имя кант в калининград.\n",
            "\"температура сейчас не достаточно низкий, чтобы можно быть говорить о замерзание балтийский море. конечно, около берег мочь образовываться припай, мочь замерзать\n",
            "Стемминг текста 53: счетный палата россия считать, что строительство объект к саммит атэс во владивосток, который пройти там в 2012 год, быть выполнять в установленный срок, сообщать во вторник журналист аудитор сп александр пискунов.\n",
            "\"проект очень тяжелый, конечно, и сам инженерный решение очень тяжелый, особенно в этот природный-климатический условие, но пока \n",
            "Стемминг текста 54: губернатор ивановский область михаил мень во вторник вручать ключ от мобильный офис руководитель центр занятость население регион, сообщать риа новость начальник региональный комитет по труд татьяна сергеев.\n",
            "мобильный центр оборудовать на база микроавтобус &laquo;газель&raquo;. он оснащать современный оргтехника, методический база, содержать презентация, а также банк видеопрофессиограмма, тестовый\n",
            "Стемминг текста 55: 21 январь на сайт риа новость быть опубликовывать материал-компиляция, подробно рассказывать о наиболее значимый эпизод в жизнь и творчество популярный актер театр и кино дмитрий харатьян, который быть приурочивать к он 50-летний юбилей. и материал, и заголовок быть заимствовать армянский интернет-сми nv.am дословно. никакой ссылка, \n",
            "Стемминг текста 56: выбор российский знаменосец на олимпийский игра-2010 в ванкувер должный быть тщательно продумывать, считать министр спорт, туризм и молодежный политика виталий мутко.\n",
            "\"нельзя выбирать знаменосец, только основываться на личность спортсмен, или вид спорт, который он представлять, - подчеркивать мутко, выступать во вторник на брифинг после совместный заседание коллегия минспорттуризм и \n",
            "Стемминг текста 57: самый первый в история крупный радиационный авария происходить в ход наработка ядерный материал для первый атомный бомба.\n",
            "1 сентябрь 1944 год в сша, штат теннести, в ока-риджский национальный лаборатория при попытка прочищать труба в лабораторный устройство по обогащение уран происходить взрыв гексафторид уран, что приводить к образование опасный вещество\n",
            "Стемминг текста 58: федеральный антимонопольный служба (фас россия) изучать проблема резкий подорожание стоимость проезд на пригородный электропоезд при пересечение граница москва и подмосковье, сообщать риа новость замглавы управление фас контроль транспорт и связь дмитрий рутенберг.\n",
            "\"к мы обращаться гражданин по этот вопрос. сейчас мы изучать ситуация\", - сказать рутенберг.\n",
            "при это он \n",
            "Стемминг текста 59: парламентский ассамблея совет европа (пасе) рекомендовать уставный орган совет, комитет министр, разрабатывать европейский кодекс поведение в область лоббирование, говориться в представлять во вторник доклад.\n",
            "парламентский ассамблея отмечать, что в \"последний десятилетие неуклонно активизироваться деятельность группа, преследовать определенный интерес. этот явление отмечаться как в государство-член совет европа, так и \n",
            "Стемминг текста 60: анонс событие составлять по открытый источник и носить предварительный характер.\n",
            "риа новость не нести ответственность за отмена, перенос и изменение дата мероприятие.\n",
            "2010 год\n",
            "(данные на 15.00 26 январь)\n",
            "москва\n",
            "* пройти заседание комиссия таможенный союз, на который планироваться рассматривать вопрос об обеспечение функционирование единый система нетарифный регулирование таможенный \n"
          ]
        },
        {
          "output_type": "error",
          "ename": "KeyboardInterrupt",
          "evalue": "ignored",
          "traceback": [
            "\u001b[0;31m---------------------------------------------------------------------------\u001b[0m",
            "\u001b[0;31mKeyboardInterrupt\u001b[0m                         Traceback (most recent call last)",
            "\u001b[0;32m<ipython-input-32-9dfdbbaa00c0>\u001b[0m in \u001b[0;36m<cell line: 4>\u001b[0;34m()\u001b[0m\n\u001b[1;32m      4\u001b[0m \u001b[0;32mfor\u001b[0m \u001b[0mi\u001b[0m\u001b[0;34m,\u001b[0m \u001b[0mrecord\u001b[0m \u001b[0;32min\u001b[0m \u001b[0menumerate\u001b[0m\u001b[0;34m(\u001b[0m\u001b[0mrecords\u001b[0m\u001b[0;34m)\u001b[0m\u001b[0;34m:\u001b[0m\u001b[0;34m\u001b[0m\u001b[0;34m\u001b[0m\u001b[0m\n\u001b[1;32m      5\u001b[0m     \u001b[0mtext\u001b[0m \u001b[0;34m=\u001b[0m \u001b[0mrecord\u001b[0m\u001b[0;34m.\u001b[0m\u001b[0mtext\u001b[0m\u001b[0;34m\u001b[0m\u001b[0;34m\u001b[0m\u001b[0m\n\u001b[0;32m----> 6\u001b[0;31m     \u001b[0mstems\u001b[0m \u001b[0;34m=\u001b[0m \u001b[0mm\u001b[0m\u001b[0;34m.\u001b[0m\u001b[0mlemmatize\u001b[0m\u001b[0;34m(\u001b[0m\u001b[0mtext\u001b[0m\u001b[0;34m)\u001b[0m\u001b[0;34m[\u001b[0m\u001b[0;34m:\u001b[0m\u001b[0;36m100\u001b[0m\u001b[0;34m]\u001b[0m\u001b[0;34m\u001b[0m\u001b[0;34m\u001b[0m\u001b[0m\n\u001b[0m\u001b[1;32m      7\u001b[0m     \u001b[0mprint\u001b[0m\u001b[0;34m(\u001b[0m\u001b[0;34mf\"Стемминг текста {i}: {''.join(stems)}\"\u001b[0m\u001b[0;34m)\u001b[0m\u001b[0;34m\u001b[0m\u001b[0;34m\u001b[0m\u001b[0m\n",
            "\u001b[0;32m/usr/local/lib/python3.10/dist-packages/pymystem3/mystem.py\u001b[0m in \u001b[0;36mlemmatize\u001b[0;34m(self, text)\u001b[0m\n\u001b[1;32m    263\u001b[0m         \u001b[0mneed_encode\u001b[0m \u001b[0;34m=\u001b[0m \u001b[0;34m(\u001b[0m\u001b[0msys\u001b[0m\u001b[0;34m.\u001b[0m\u001b[0mversion_info\u001b[0m\u001b[0;34m[\u001b[0m\u001b[0;36m0\u001b[0m\u001b[0;34m]\u001b[0m \u001b[0;34m<\u001b[0m \u001b[0;36m3\u001b[0m \u001b[0;32mand\u001b[0m \u001b[0misinstance\u001b[0m\u001b[0;34m(\u001b[0m\u001b[0mtext\u001b[0m\u001b[0;34m,\u001b[0m \u001b[0mstr\u001b[0m\u001b[0;34m)\u001b[0m\u001b[0;34m)\u001b[0m\u001b[0;34m\u001b[0m\u001b[0;34m\u001b[0m\u001b[0m\n\u001b[1;32m    264\u001b[0m \u001b[0;34m\u001b[0m\u001b[0m\n\u001b[0;32m--> 265\u001b[0;31m         \u001b[0minfos\u001b[0m \u001b[0;34m=\u001b[0m \u001b[0mself\u001b[0m\u001b[0;34m.\u001b[0m\u001b[0manalyze\u001b[0m\u001b[0;34m(\u001b[0m\u001b[0mtext\u001b[0m\u001b[0;34m)\u001b[0m\u001b[0;34m\u001b[0m\u001b[0;34m\u001b[0m\u001b[0m\n\u001b[0m\u001b[1;32m    266\u001b[0m         \u001b[0mlemmas\u001b[0m \u001b[0;34m=\u001b[0m \u001b[0mlist\u001b[0m\u001b[0;34m(\u001b[0m\u001b[0mfilter\u001b[0m\u001b[0;34m(\u001b[0m\u001b[0;32mNone\u001b[0m\u001b[0;34m,\u001b[0m \u001b[0mmap\u001b[0m\u001b[0;34m(\u001b[0m\u001b[0mself\u001b[0m\u001b[0;34m.\u001b[0m\u001b[0m_get_lemma\u001b[0m\u001b[0;34m,\u001b[0m \u001b[0minfos\u001b[0m\u001b[0;34m)\u001b[0m\u001b[0;34m)\u001b[0m\u001b[0;34m)\u001b[0m\u001b[0;34m\u001b[0m\u001b[0;34m\u001b[0m\u001b[0m\n\u001b[1;32m    267\u001b[0m \u001b[0;34m\u001b[0m\u001b[0m\n",
            "\u001b[0;32m/usr/local/lib/python3.10/dist-packages/pymystem3/mystem.py\u001b[0m in \u001b[0;36manalyze\u001b[0;34m(self, text)\u001b[0m\n\u001b[1;32m    248\u001b[0m         \u001b[0mresult\u001b[0m \u001b[0;34m=\u001b[0m \u001b[0;34m[\u001b[0m\u001b[0;34m]\u001b[0m\u001b[0;34m\u001b[0m\u001b[0;34m\u001b[0m\u001b[0m\n\u001b[1;32m    249\u001b[0m         \u001b[0;32mfor\u001b[0m \u001b[0mline\u001b[0m \u001b[0;32min\u001b[0m \u001b[0mtext\u001b[0m\u001b[0;34m.\u001b[0m\u001b[0msplitlines\u001b[0m\u001b[0;34m(\u001b[0m\u001b[0;34m)\u001b[0m\u001b[0;34m:\u001b[0m\u001b[0;34m\u001b[0m\u001b[0;34m\u001b[0m\u001b[0m\n\u001b[0;32m--> 250\u001b[0;31m             \u001b[0mresult\u001b[0m\u001b[0;34m.\u001b[0m\u001b[0mextend\u001b[0m\u001b[0;34m(\u001b[0m\u001b[0mself\u001b[0m\u001b[0;34m.\u001b[0m\u001b[0m_analyze_impl\u001b[0m\u001b[0;34m(\u001b[0m\u001b[0mline\u001b[0m\u001b[0;34m)\u001b[0m\u001b[0;34m)\u001b[0m\u001b[0;34m\u001b[0m\u001b[0;34m\u001b[0m\u001b[0m\n\u001b[0m\u001b[1;32m    251\u001b[0m         \u001b[0;32mreturn\u001b[0m \u001b[0mresult\u001b[0m\u001b[0;34m\u001b[0m\u001b[0;34m\u001b[0m\u001b[0m\n\u001b[1;32m    252\u001b[0m \u001b[0;34m\u001b[0m\u001b[0m\n",
            "\u001b[0;32m/usr/local/lib/python3.10/dist-packages/pymystem3/mystem.py\u001b[0m in \u001b[0;36m_analyze_impl\u001b[0;34m(self, text)\u001b[0m\n\u001b[1;32m    289\u001b[0m             \u001b[0;32mwhile\u001b[0m \u001b[0;32mTrue\u001b[0m\u001b[0;34m:\u001b[0m\u001b[0;34m\u001b[0m\u001b[0;34m\u001b[0m\u001b[0m\n\u001b[1;32m    290\u001b[0m                 \u001b[0;32mtry\u001b[0m\u001b[0;34m:\u001b[0m\u001b[0;34m\u001b[0m\u001b[0;34m\u001b[0m\u001b[0m\n\u001b[0;32m--> 291\u001b[0;31m                     \u001b[0mout\u001b[0m \u001b[0;34m=\u001b[0m \u001b[0mself\u001b[0m\u001b[0;34m.\u001b[0m\u001b[0m_procout\u001b[0m\u001b[0;34m.\u001b[0m\u001b[0mread\u001b[0m\u001b[0;34m(\u001b[0m\u001b[0;34m)\u001b[0m\u001b[0;34m\u001b[0m\u001b[0;34m\u001b[0m\u001b[0m\n\u001b[0m\u001b[1;32m    292\u001b[0m                     \u001b[0msio\u001b[0m\u001b[0;34m.\u001b[0m\u001b[0mwrite\u001b[0m\u001b[0;34m(\u001b[0m\u001b[0mout\u001b[0m\u001b[0;34m)\u001b[0m\u001b[0;34m\u001b[0m\u001b[0;34m\u001b[0m\u001b[0m\n\u001b[1;32m    293\u001b[0m                     \u001b[0mobj\u001b[0m \u001b[0;34m=\u001b[0m \u001b[0mjson\u001b[0m\u001b[0;34m.\u001b[0m\u001b[0mloads\u001b[0m\u001b[0;34m(\u001b[0m\u001b[0msio\u001b[0m\u001b[0;34m.\u001b[0m\u001b[0mgetvalue\u001b[0m\u001b[0;34m(\u001b[0m\u001b[0;34m)\u001b[0m\u001b[0;34m.\u001b[0m\u001b[0mdecode\u001b[0m\u001b[0;34m(\u001b[0m\u001b[0;34m'utf-8'\u001b[0m\u001b[0;34m)\u001b[0m\u001b[0;34m)\u001b[0m\u001b[0;34m\u001b[0m\u001b[0;34m\u001b[0m\u001b[0m\n",
            "\u001b[0;31mKeyboardInterrupt\u001b[0m: "
          ]
        }
      ]
    }
  ]
}